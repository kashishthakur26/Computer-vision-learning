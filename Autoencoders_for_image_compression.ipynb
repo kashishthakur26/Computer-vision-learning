{
  "nbformat": 4,
  "nbformat_minor": 0,
  "metadata": {
    "colab": {
      "provenance": [],
      "gpuType": "T4",
      "authorship_tag": "ABX9TyOWbqjpUO2tlJRsjG13dGbO",
      "include_colab_link": true
    },
    "kernelspec": {
      "name": "python3",
      "display_name": "Python 3"
    },
    "language_info": {
      "name": "python"
    },
    "accelerator": "GPU"
  },
  "cells": [
    {
      "cell_type": "markdown",
      "metadata": {
        "id": "view-in-github",
        "colab_type": "text"
      },
      "source": [
        "<a href=\"https://colab.research.google.com/github/kashishthakur26/Computer-vision-learning/blob/main/Autoencoders_for_image_compression.ipynb\" target=\"_parent\"><img src=\"https://colab.research.google.com/assets/colab-badge.svg\" alt=\"Open In Colab\"/></a>"
      ]
    },
    {
      "cell_type": "code",
      "execution_count": 1,
      "metadata": {
        "colab": {
          "base_uri": "https://localhost:8080/",
          "height": 36
        },
        "id": "O8Cse6GE7ffW",
        "outputId": "a9538e23-3ec3-4924-e5c5-58fe39598a80"
      },
      "outputs": [
        {
          "output_type": "execute_result",
          "data": {
            "text/plain": [
              "'2.12.0'"
            ],
            "application/vnd.google.colaboratory.intrinsic+json": {
              "type": "string"
            }
          },
          "metadata": {},
          "execution_count": 1
        }
      ],
      "source": [
        "import tensorflow as tf\n",
        "from tensorflow.keras.models import Sequential , Model\n",
        "from tensorflow.keras.layers import Dense , Input\n",
        "import numpy as np\n",
        "import matplotlib.pyplot as plt\n",
        "tf.__version__\n"
      ]
    },
    {
      "cell_type": "markdown",
      "source": [
        "## Loading the dataset"
      ],
      "metadata": {
        "id": "r_tobAyy8CQz"
      }
    },
    {
      "cell_type": "code",
      "source": [
        "from tensorflow.keras.datasets import mnist"
      ],
      "metadata": {
        "id": "zZ-I9mgw9mLD"
      },
      "execution_count": 2,
      "outputs": []
    },
    {
      "cell_type": "code",
      "source": [
        "(x_train , y_train) , (x_test , y_test) = mnist.load_data()"
      ],
      "metadata": {
        "colab": {
          "base_uri": "https://localhost:8080/"
        },
        "id": "aa88Vxxe9tD3",
        "outputId": "90e1d1db-1878-4659-b74f-affb3e1878d2"
      },
      "execution_count": 3,
      "outputs": [
        {
          "output_type": "stream",
          "name": "stdout",
          "text": [
            "Downloading data from https://storage.googleapis.com/tensorflow/tf-keras-datasets/mnist.npz\n",
            "11490434/11490434 [==============================] - 0s 0us/step\n"
          ]
        }
      ]
    },
    {
      "cell_type": "code",
      "source": [
        "x_train.shape"
      ],
      "metadata": {
        "colab": {
          "base_uri": "https://localhost:8080/"
        },
        "id": "ygKIJ2eC96XG",
        "outputId": "027e92f4-f5a8-419e-9a44-675f33452e5f"
      },
      "execution_count": 4,
      "outputs": [
        {
          "output_type": "execute_result",
          "data": {
            "text/plain": [
              "(60000, 28, 28)"
            ]
          },
          "metadata": {},
          "execution_count": 4
        }
      ]
    },
    {
      "cell_type": "code",
      "source": [
        "y_train.shape"
      ],
      "metadata": {
        "colab": {
          "base_uri": "https://localhost:8080/"
        },
        "id": "v2H6M4wC98Ys",
        "outputId": "6d853fe0-6486-41f5-fb88-52fb3da59f27"
      },
      "execution_count": 5,
      "outputs": [
        {
          "output_type": "execute_result",
          "data": {
            "text/plain": [
              "(60000,)"
            ]
          },
          "metadata": {},
          "execution_count": 5
        }
      ]
    },
    {
      "cell_type": "code",
      "source": [
        "np.random.randint(0,59999)"
      ],
      "metadata": {
        "colab": {
          "base_uri": "https://localhost:8080/"
        },
        "id": "2eTYtAT3-CaL",
        "outputId": "04dcc08d-dd20-427a-e32e-a056dc8f780b"
      },
      "execution_count": 6,
      "outputs": [
        {
          "output_type": "execute_result",
          "data": {
            "text/plain": [
              "5478"
            ]
          },
          "metadata": {},
          "execution_count": 6
        }
      ]
    },
    {
      "cell_type": "code",
      "source": [
        "i = np.random.randint(0 , 59999)\n",
        "plt.imshow(x_train[i])"
      ],
      "metadata": {
        "colab": {
          "base_uri": "https://localhost:8080/",
          "height": 447
        },
        "id": "aK7Hvfqx-j8W",
        "outputId": "53421bb9-c0f3-4a85-915c-ba155c06d6c5"
      },
      "execution_count": 7,
      "outputs": [
        {
          "output_type": "execute_result",
          "data": {
            "text/plain": [
              "<matplotlib.image.AxesImage at 0x7edebfcd9f30>"
            ]
          },
          "metadata": {},
          "execution_count": 7
        },
        {
          "output_type": "display_data",
          "data": {
            "text/plain": [
              "<Figure size 640x480 with 1 Axes>"
            ],
            "image/png": "[encoded data removed]"
          },
          "metadata": {}
        }
      ]
    },
    {
      "cell_type": "code",
      "source": [
        "width = 10\n",
        "height = 10\n",
        "\n",
        "fig , axes = plt.subplots(height , width , figsize=(15,15))\n",
        "axes = axes.ravel()\n",
        "for i in np.arange(0 , width * height):\n",
        "  index = np.random.randint(0,59999)\n",
        "  axes[i].imshow(x_train[index] , cmap='gray')\n",
        "  axes[i].axis('off')\n",
        "plt.subplots_adjust(hspace=0.4)"
      ],
      "metadata": {
        "colab": {
          "base_uri": "https://localhost:8080/",
          "height": 670
        },
        "id": "ONsxbvFW-4Qt",
        "outputId": "7889c804-5003-400e-bed1-8adff1b98bf8"
      },
      "execution_count": 8,
      "outputs": [
        {
          "output_type": "display_data",
          "data": {
            "text/plain": [
              "<Figure size 1500x1500 with 100 Axes>"
            ],
            "image/png": "[encoded data removed]"
          },
          "metadata": {}
        }
      ]
    },
    {
      "cell_type": "markdown",
      "source": [
        "## preprocessing the image"
      ],
      "metadata": {
        "id": "kGlED-CF_pKl"
      }
    },
    {
      "cell_type": "code",
      "source": [
        "x_train[0].min(), x_train[0].max()\n"
      ],
      "metadata": {
        "colab": {
          "base_uri": "https://localhost:8080/"
        },
        "id": "LQ4JmdfNCFE4",
        "outputId": "1f7f7cc7-011c-4614-9eff-2e2d83708fc9"
      },
      "execution_count": 9,
      "outputs": [
        {
          "output_type": "execute_result",
          "data": {
            "text/plain": [
              "(0, 255)"
            ]
          },
          "metadata": {},
          "execution_count": 9
        }
      ]
    },
    {
      "cell_type": "code",
      "source": [],
      "metadata": {
        "id": "OM1m_bIk2hST"
      },
      "execution_count": 9,
      "outputs": []
    },
    {
      "cell_type": "code",
      "source": [
        "x_train = x_train / 255\n",
        "x_test = x_test / 255"
      ],
      "metadata": {
        "id": "7Ptwk0C62TnS"
      },
      "execution_count": 10,
      "outputs": []
    },
    {
      "cell_type": "code",
      "source": [],
      "metadata": {
        "id": "Psq7PtpR2iKw"
      },
      "execution_count": 10,
      "outputs": []
    },
    {
      "cell_type": "code",
      "source": [
        "x_train = x_train.reshape(x_train.shape[0], x_train.shape[1] * x_train.shape[2])\n",
        "x_train.shape"
      ],
      "metadata": {
        "colab": {
          "base_uri": "https://localhost:8080/"
        },
        "id": "HTmpjGTzCJWv",
        "outputId": "cca828d4-17e1-428f-8ba2-e7855d267460"
      },
      "execution_count": 11,
      "outputs": [
        {
          "output_type": "execute_result",
          "data": {
            "text/plain": [
              "(60000, 784)"
            ]
          },
          "metadata": {},
          "execution_count": 11
        }
      ]
    },
    {
      "cell_type": "code",
      "source": [
        "# x_test = x_test.reshape(x_test.shape[0], x_test.shape[1] * x_test.shape[2])\n",
        "x_test.shape"
      ],
      "metadata": {
        "colab": {
          "base_uri": "https://localhost:8080/"
        },
        "id": "3RFgGSwmC-Q4",
        "outputId": "a7f0d5d7-6f7e-4b4a-ec0e-fcc47560dfc4"
      },
      "execution_count": 12,
      "outputs": [
        {
          "output_type": "execute_result",
          "data": {
            "text/plain": [
              "(10000, 28, 28)"
            ]
          },
          "metadata": {},
          "execution_count": 12
        }
      ]
    },
    {
      "cell_type": "markdown",
      "source": [
        "## Building and training the autoencoder"
      ],
      "metadata": {
        "id": "Yx5eFzdoDHkB"
      }
    },
    {
      "cell_type": "code",
      "source": [
        "autoencoder = Sequential()\n",
        "\n",
        "# Encode\n",
        "autoencoder.add(Dense(units = 128, activation='relu', input_dim = 784))\n",
        "autoencoder.add(Dense(units = 64, activation='relu'))\n",
        "autoencoder.add(Dense(units = 32, activation='relu')) # Encoded image\n",
        "\n",
        "# Decode\n",
        "autoencoder.add(Dense(units = 64, activation='relu'))\n",
        "autoencoder.add(Dense(units = 128, activation='relu'))\n",
        "autoencoder.add(Dense(units = 784, activation='sigmoid'))"
      ],
      "metadata": {
        "id": "443GomySDbYw"
      },
      "execution_count": null,
      "outputs": []
    },
    {
      "cell_type": "code",
      "source": [
        "autoencoder.summary()"
      ],
      "metadata": {
        "id": "AxIUFYUC0B9h"
      },
      "execution_count": null,
      "outputs": []
    },
    {
      "cell_type": "code",
      "source": [
        "autoencoder.compile(optimizer='Adam' ,loss='binary_crossentropy' , metrics = ['accuracy'])"
      ],
      "metadata": {
        "id": "NT6dHuty0Fcp"
      },
      "execution_count": null,
      "outputs": []
    },
    {
      "cell_type": "code",
      "source": [
        "# autoencoder.fit(x_train , x_train , epochs=50)"
      ],
      "metadata": {
        "id": "SuazEDvw0Sr1"
      },
      "execution_count": null,
      "outputs": []
    },
    {
      "cell_type": "code",
      "source": [
        "encoder = Model(inputs = autoencoder.input, outputs = autoencoder.get_layer('dense_2').output)"
      ],
      "metadata": {
        "id": "Bz3XcOtl0miN"
      },
      "execution_count": null,
      "outputs": []
    },
    {
      "cell_type": "code",
      "source": [
        "encoder.summary()"
      ],
      "metadata": {
        "id": "P1PKOXEz38iE"
      },
      "execution_count": null,
      "outputs": []
    },
    {
      "cell_type": "code",
      "source": [
        "plt.imshow(x_test[0].reshape(28,28), cmap='gray');"
      ],
      "metadata": {
        "id": "8xXd-iS04Tqq"
      },
      "execution_count": null,
      "outputs": []
    },
    {
      "cell_type": "code",
      "source": [
        "x_test[0].shape"
      ],
      "metadata": {
        "id": "Rnl97Izg4W4w"
      },
      "execution_count": null,
      "outputs": []
    },
    {
      "cell_type": "code",
      "source": [
        "x_test[0].reshape(1, -1).shape"
      ],
      "metadata": {
        "id": "EpsSfle04tl0"
      },
      "execution_count": null,
      "outputs": []
    },
    {
      "cell_type": "code",
      "source": [
        "encoded_image = encoder.predict(x_test[0].reshape(1,-1))"
      ],
      "metadata": {
        "id": "Z4cTfEcg4way"
      },
      "execution_count": null,
      "outputs": []
    },
    {
      "cell_type": "code",
      "source": [
        "encoded_image, encoded_image.shape"
      ],
      "metadata": {
        "id": "B_sUwbQS4xq3"
      },
      "execution_count": null,
      "outputs": []
    },
    {
      "cell_type": "code",
      "source": [
        "plt.imshow(encoded_image.reshape(8,4), cmap='gray');"
      ],
      "metadata": {
        "id": "bcHKMOKU41oo"
      },
      "execution_count": null,
      "outputs": []
    },
    {
      "cell_type": "markdown",
      "source": [
        "## Decoding the images"
      ],
      "metadata": {
        "id": "RP7rw-jW44S5"
      }
    },
    {
      "cell_type": "code",
      "source": [
        "input_layer_decoder = Input(shape=(32,))\n",
        "decoder_layer1 = autoencoder.layers[3]\n",
        "decoder_layer2 = autoencoder.layers[4]\n",
        "decoder_layer3 = autoencoder.layers[5]\n",
        "decoder = Model(inputs = input_layer_decoder, outputs = decoder_layer3(decoder_layer2(decoder_layer1(input_layer_decoder))))\n",
        "decoder.summary()"
      ],
      "metadata": {
        "id": "U9Re-j3u4-WX"
      },
      "execution_count": null,
      "outputs": []
    },
    {
      "cell_type": "code",
      "source": [
        "decoded_image = decoder.predict(encoded_image)"
      ],
      "metadata": {
        "id": "QaebdGHj6fB1"
      },
      "execution_count": null,
      "outputs": []
    },
    {
      "cell_type": "code",
      "source": [
        "decoded_image.shape"
      ],
      "metadata": {
        "id": "qVdV8AB-6ukQ"
      },
      "execution_count": null,
      "outputs": []
    },
    {
      "cell_type": "code",
      "source": [
        "plt.imshow(x_test[0].reshape(28,28), cmap = 'gray');"
      ],
      "metadata": {
        "id": "jk2TE0tc6vq0"
      },
      "execution_count": null,
      "outputs": []
    },
    {
      "cell_type": "markdown",
      "source": [
        "## ENCODING AN DECODING THE TEST IMAGES"
      ],
      "metadata": {
        "id": "zHgcmcd86w6J"
      }
    },
    {
      "cell_type": "code",
      "source": [
        "x_test.shape[0]"
      ],
      "metadata": {
        "id": "cePEV30G69PY"
      },
      "execution_count": null,
      "outputs": []
    },
    {
      "cell_type": "code",
      "source": [
        "n_images = 10\n",
        "test_images = np.random.randint(0, x_test.shape[0] - 1, size = n_images)\n",
        "#print(test_images)\n",
        "plt.figure(figsize=(18,18))\n",
        "for i, image_index in enumerate(test_images):\n",
        "  ax = plt.subplot(10,10,i + 1)\n",
        "  plt.imshow(x_test[image_index].reshape(28,28), cmap='gray')\n",
        "  plt.xticks(())\n",
        "  plt.yticks(())\n",
        "\n",
        "  # Coded images\n",
        "  ax = plt.subplot(10,10,i + 1 + n_images)\n",
        "  encoded_image = encoder.predict(x_test[image_index].reshape(1,-1))\n",
        "  plt.imshow(encoded_image.reshape(8,4), cmap = 'gray')\n",
        "  plt.xticks(())\n",
        "  plt.yticks(())\n",
        "\n",
        "  # Decoded images\n",
        "  ax = plt.subplot(10,10,i + 1 + n_images * 2)\n",
        "  plt.imshow(decoder.predict(encoded_image).reshape(28,28), cmap='gray')\n",
        "  plt.xticks(())\n",
        "  plt.yticks(())"
      ],
      "metadata": {
        "id": "rRgB82v_7BGm"
      },
      "execution_count": null,
      "outputs": []
    }
  ]
}